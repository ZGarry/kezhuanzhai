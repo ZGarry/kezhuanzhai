{
 "cells": [
  {
   "cell_type": "code",
   "metadata": {
    "ExecuteTime": {
     "end_time": "2024-09-24T01:49:05.926880Z",
     "start_time": "2024-09-24T01:49:05.129106Z"
    }
   },
   "source": [
    "from __future__ import print_function, absolute_import\n",
    "from gm.api import *\n",
    "set_token(\"59e9c8cd18899c191fa133d4cdb08d66efba3dd9\")\n",
    "\n",
    "history_data = history(symbol='SHSE.118037', frequency='1m', start_time='2023-04-14',end_time='2023-08-18', df=True)"
   ],
   "outputs": [],
   "execution_count": 1
  },
  {
   "cell_type": "code",
   "metadata": {
    "ExecuteTime": {
     "end_time": "2024-09-24T01:52:09.321974Z",
     "start_time": "2024-09-24T01:52:09.050967Z"
    }
   },
   "source": "",
   "outputs": [
    {
     "ename": "GmError",
     "evalue": "{\"status\": 2002, \"message\": \"超出业务授权范围; [ERR_NO_DATA_PERMISSION] rpc error: code = PermissionDenied desc = [ERR_NO_DATA_PERMISSION] 只允许下载[债券]品种的除今天外, 最近 180 个自然日的历史行情Bar数据, 查询起始日期不早于 2024-03-28\", \"function\": \"history\"}",
     "output_type": "error",
     "traceback": [
      "\u001B[1;31m---------------------------------------------------------------------------\u001B[0m",
      "\u001B[1;31mGmError\u001B[0m                                   Traceback (most recent call last)",
      "\u001B[1;32m~\\AppData\\Local\\Temp\\ipykernel_25080\\3533607245.py\u001B[0m in \u001B[0;36m<module>\u001B[1;34m\u001B[0m\n\u001B[1;32m----> 1\u001B[1;33m \u001B[0mhistory_data\u001B[0m \u001B[1;33m=\u001B[0m \u001B[0mhistory\u001B[0m\u001B[1;33m(\u001B[0m\u001B[0msymbol\u001B[0m\u001B[1;33m=\u001B[0m\u001B[1;34m'SHSE.118037'\u001B[0m\u001B[1;33m,\u001B[0m \u001B[0mfrequency\u001B[0m\u001B[1;33m=\u001B[0m\u001B[1;34m'1m'\u001B[0m\u001B[1;33m,\u001B[0m \u001B[0mstart_time\u001B[0m\u001B[1;33m=\u001B[0m\u001B[1;34m'2023-04-14'\u001B[0m\u001B[1;33m,\u001B[0m\u001B[0mend_time\u001B[0m\u001B[1;33m=\u001B[0m\u001B[1;34m'2023-08-18'\u001B[0m\u001B[1;33m,\u001B[0m \u001B[0mdf\u001B[0m\u001B[1;33m=\u001B[0m\u001B[1;32mTrue\u001B[0m\u001B[1;33m)\u001B[0m\u001B[1;33m\u001B[0m\u001B[1;33m\u001B[0m\u001B[0m\n\u001B[0m",
      "\u001B[1;32mC:\\ProgramData\\anaconda3\\lib\\site-packages\\gm\\api\\query.py\u001B[0m in \u001B[0;36mhistory\u001B[1;34m(symbol, frequency, start_time, end_time, fields, skip_suspended, fill_missing, adjust, adjust_end_time, df)\u001B[0m\n\u001B[0;32m    571\u001B[0m         )\n\u001B[0;32m    572\u001B[0m         \u001B[0mstatus\u001B[0m\u001B[1;33m,\u001B[0m \u001B[0mresult\u001B[0m \u001B[1;33m=\u001B[0m \u001B[0mpy_gmi_history_bars_pb\u001B[0m\u001B[1;33m(\u001B[0m\u001B[0mreq\u001B[0m\u001B[1;33m.\u001B[0m\u001B[0mSerializeToString\u001B[0m\u001B[1;33m(\u001B[0m\u001B[1;33m)\u001B[0m\u001B[1;33m)\u001B[0m\u001B[1;33m\u001B[0m\u001B[1;33m\u001B[0m\u001B[0m\n\u001B[1;32m--> 573\u001B[1;33m         \u001B[0mcheck_gm_status\u001B[0m\u001B[1;33m(\u001B[0m\u001B[0mstatus\u001B[0m\u001B[1;33m)\u001B[0m\u001B[1;33m\u001B[0m\u001B[1;33m\u001B[0m\u001B[0m\n\u001B[0m\u001B[0;32m    574\u001B[0m \u001B[1;33m\u001B[0m\u001B[0m\n\u001B[0;32m    575\u001B[0m         \u001B[0mdatas\u001B[0m \u001B[1;33m=\u001B[0m \u001B[1;33m[\u001B[0m\u001B[1;33m]\u001B[0m\u001B[1;33m\u001B[0m\u001B[1;33m\u001B[0m\u001B[0m\n",
      "\u001B[1;32mC:\\ProgramData\\anaconda3\\lib\\site-packages\\gm\\api\\_errors.py\u001B[0m in \u001B[0;36mcheck_gm_status\u001B[1;34m(status)\u001B[0m\n\u001B[0;32m     29\u001B[0m             \u001B[0mmessage\u001B[0m \u001B[1;33m+=\u001B[0m \u001B[1;34m\"; \"\u001B[0m \u001B[1;33m+\u001B[0m \u001B[0mext_message\u001B[0m\u001B[1;33m\u001B[0m\u001B[1;33m\u001B[0m\u001B[0m\n\u001B[0;32m     30\u001B[0m         \u001B[0mfunction\u001B[0m \u001B[1;33m=\u001B[0m \u001B[0msys\u001B[0m\u001B[1;33m.\u001B[0m\u001B[0m_getframe\u001B[0m\u001B[1;33m(\u001B[0m\u001B[1;33m)\u001B[0m\u001B[1;33m.\u001B[0m\u001B[0mf_back\u001B[0m\u001B[1;33m.\u001B[0m\u001B[0mf_code\u001B[0m\u001B[1;33m.\u001B[0m\u001B[0mco_name\u001B[0m\u001B[1;33m\u001B[0m\u001B[1;33m\u001B[0m\u001B[0m\n\u001B[1;32m---> 31\u001B[1;33m         \u001B[1;32mraise\u001B[0m \u001B[0mGmError\u001B[0m\u001B[1;33m(\u001B[0m\u001B[0mstatus\u001B[0m\u001B[1;33m,\u001B[0m \u001B[0mmessage\u001B[0m\u001B[1;33m,\u001B[0m \u001B[0mfunction\u001B[0m\u001B[1;33m)\u001B[0m\u001B[1;33m\u001B[0m\u001B[1;33m\u001B[0m\u001B[0m\n\u001B[0m\u001B[0;32m     32\u001B[0m \u001B[1;33m\u001B[0m\u001B[0m\n\u001B[0;32m     33\u001B[0m \u001B[1;32mdef\u001B[0m \u001B[0msend_custom_error\u001B[0m\u001B[1;33m(\u001B[0m\u001B[0mmessage\u001B[0m\u001B[1;33m)\u001B[0m\u001B[1;33m:\u001B[0m\u001B[1;33m\u001B[0m\u001B[1;33m\u001B[0m\u001B[0m\n",
      "\u001B[1;31mGmError\u001B[0m: {\"status\": 2002, \"message\": \"超出业务授权范围; [ERR_NO_DATA_PERMISSION] rpc error: code = PermissionDenied desc = [ERR_NO_DATA_PERMISSION] 只允许下载[债券]品种的除今天外, 最近 180 个自然日的历史行情Bar数据, 查询起始日期不早于 2024-03-28\", \"function\": \"history\"}"
     ]
    }
   ],
   "execution_count": 3
  }
 ],
 "metadata": {
  "kernelspec": {
   "display_name": "Python 3",
   "language": "python",
   "name": "python3"
  },
  "language_info": {
   "codemirror_mode": {
    "name": "ipython",
    "version": 3
   },
   "file_extension": ".py",
   "mimetype": "text/x-python",
   "name": "python",
   "nbconvert_exporter": "python",
   "pygments_lexer": "ipython3",
   "version": "3.11.6"
  }
 },
 "nbformat": 4,
 "nbformat_minor": 2
}
