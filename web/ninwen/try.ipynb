{
 "cells": [
  {
   "cell_type": "code",
   "execution_count": null,
   "metadata": {},
   "outputs": [],
   "source": [
    "import pandas as pd\n",
    "\n",
    "# 数据\n",
    "df = pd.read_csv(filePath, index_col=0)\n",
    "# 日期数据范围\n",
    "dateRange = []\n",
    "# 每日数据\n",
    "day2df = {}\n",
    "\n",
    "\n",
    "# 计算部分中间数据\n",
    "df['value'] = 100/df['convPrice']*df['closePriceEqu']\n",
    "df['ratio'] = df['closePriceBond']/df['value']-1\n",
    "df['doubleLow'] = df['closePriceBond'] + \\\n",
    "    df['ratio']*100\n",
    "df['closePriceBond'] = df['closePriceBond'].apply(\n",
    "    lambda x: round(x, 2))\n",
    "\n",
    "# 计算数据范围\n",
    "dateRange = list(set(df['tradeDate']))\n",
    "dateRange.sort()\n",
    "\n",
    "# 计算日数据\n",
    "for date_str in dateRange:\n",
    "    day2df[date_str] = df[df['tradeDate'] == date_str]"
   ]
  },
  {
   "cell_type": "code",
   "execution_count": 1,
   "metadata": {},
   "outputs": [],
   "source": [
    "import os\n",
    "import pandas as pd\n",
    "\n",
    "# 用于存储所有文件的数据框字典\n",
    "# 日级数据\n",
    "dfs = {}\n",
    "\n",
    "# 指定目录\n",
    "directory = '2023ninwen'  # 替换为你的目录路径\n",
    "\n",
    "# 读取目录下的所有文件\n",
    "for filename in os.listdir(directory):\n",
    "    if filename.endswith(\".xlsx\"):  # 假设你想要读取所有的xlsx文件\n",
    "        file_path = os.path.join(directory, filename)\n",
    "        df = pd.read_excel(file_path)  # 使用 Pandas 读取文件\n",
    "        dfs[filename] = df  # 将数据框存储在字典中，键为文件名\n",
    "\n",
    "# # 输出字典内容\n",
    "# for key, value in dfs.items():\n",
    "#     print(f\"文件名: {key}\")\n",
    "#     print(value.head())  # 输出每个数据框的前几行\n"
   ]
  }
 ],
 "metadata": {
  "kernelspec": {
   "display_name": "Python 3",
   "language": "python",
   "name": "python3"
  },
  "language_info": {
   "codemirror_mode": {
    "name": "ipython",
    "version": 3
   },
   "file_extension": ".py",
   "mimetype": "text/x-python",
   "name": "python",
   "nbconvert_exporter": "python",
   "pygments_lexer": "ipython3",
   "version": "3.11.6"
  }
 },
 "nbformat": 4,
 "nbformat_minor": 2
}
