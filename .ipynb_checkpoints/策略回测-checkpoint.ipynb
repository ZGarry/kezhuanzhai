{
 "cells": [
  {
   "cell_type": "code",
   "execution_count": 2,
   "id": "6aad5d67-034b-460f-a8b6-5c8f800f3ed9",
   "metadata": {},
   "outputs": [],
   "source": [
    "# 读取本地数据\n",
    "import pandas as pd\n",
    "\n",
    "# 获取所有回测数据\n",
    "file = f'data/2017-2022-08-25日线数据.csv'\n",
    "data = pd.read_csv(file, index_col=0)"
   ]
  },
  {
   "cell_type": "code",
   "execution_count": 20,
   "id": "bcd1c872-c194-4251-8d33-4a86f75634e3",
   "metadata": {},
   "outputs": [],
   "source": [
    "def find_the_last_price(data,bond_name):\n",
    "    return data[data['secShortNameBond']==bond_name].iloc[-1]['closePriceBond']"
   ]
  },
  {
   "cell_type": "code",
   "execution_count": 26,
   "id": "328dcdef-ef9a-4502-a149-0eeb366c7126",
   "metadata": {},
   "outputs": [],
   "source": [
    "# 所有可转债\n",
    "all_bonds_name = set(data['secShortNameBond'])\n",
    "# 获取最后价格\n",
    "res = []\n",
    "for bond_name in all_bonds_name:\n",
    "    res.append([bond_name,find_the_last_price(data,bond_name)])"
   ]
  },
  {
   "cell_type": "code",
   "execution_count": 27,
   "id": "fd32220a-f3c8-4693-9995-36d071dbd1a1",
   "metadata": {},
   "outputs": [],
   "source": [
    "last_price_data = pd.DataFrame(res,columns = ['name','last_price'])"
   ]
  },
  {
   "cell_type": "code",
   "execution_count": 33,
   "id": "ae8b008f-783c-41f2-a61d-146fb007b258",
   "metadata": {},
   "outputs": [
    {
     "data": {
      "text/plain": [
       "0      138.420\n",
       "1      113.113\n",
       "2      141.360\n",
       "3      173.021\n",
       "4      113.801\n",
       "        ...   \n",
       "625    119.281\n",
       "626    120.196\n",
       "627    163.640\n",
       "628    114.360\n",
       "629    154.020\n",
       "Name: last_price, Length: 630, dtype: float64"
      ]
     },
     "execution_count": 33,
     "metadata": {},
     "output_type": "execute_result"
    }
   ],
   "source": [
    "last_price_data['last_price']"
   ]
  },
  {
   "cell_type": "code",
   "execution_count": 34,
   "id": "787202ed-26cd-4dfb-9557-1c4b4f4658dc",
   "metadata": {},
   "outputs": [
    {
     "data": {
      "text/plain": [
       "'C:\\\\Users\\\\11605\\\\temp\\\\kezhuanzhai\\\\render.html'"
      ]
     },
     "execution_count": 34,
     "metadata": {},
     "output_type": "execute_result"
    }
   ],
   "source": [
    "from pyecharts.charts import Bar\n",
    "from pyecharts import options as opts\n",
    "\n",
    "# V1 版本开始支持链式调用\n",
    "bar = (\n",
    "    Bar()\n",
    "    .add_xaxis([\"衬衫\", \"毛衣\", \"领带\", \"裤子\", \"风衣\", \"高跟鞋\", \"袜子\"])\n",
    "    .add_yaxis(\"商家A\", [114, 55, 27, 101, 125, 27, 105])\n",
    "    .add_yaxis(\"商家B\", [57, 134, 137, 129, 145, 60, 49])\n",
    "    .set_global_opts(title_opts=opts.TitleOpts(title=\"某商场销售情况\"))\n",
    ")\n",
    "bar.render()\n",
    "\n",
    "# 不习惯链式调用的开发者依旧可以单独调用方法\n",
    "bar = Bar()\n",
    "bar.add_xaxis([\"衬衫\", \"毛衣\", \"领带\", \"裤子\", \"风衣\", \"高跟鞋\", \"袜子\"])\n",
    "bar.add_yaxis(\"商家A\", [114, 55, 27, 101, 125, 27, 105])\n",
    "bar.add_yaxis(\"商家B\", [57, 134, 137, 129, 145, 60, 49])\n",
    "bar.set_global_opts(title_opts=opts.TitleOpts(title=\"某商场销售情况\"))\n",
    "bar.render()"
   ]
  },
  {
   "cell_type": "code",
   "execution_count": null,
   "id": "79fd9f93-b755-489f-8dfd-818ed23de747",
   "metadata": {},
   "outputs": [],
   "source": [
    "# 我想要的，描述数据分布\n",
    "# 讲可转债价格按从小到大排列，绘制图案"
   ]
  }
 ],
 "metadata": {
  "kernelspec": {
   "display_name": "Python 3",
   "language": "python",
   "name": "python3"
  },
  "language_info": {
   "codemirror_mode": {
    "name": "ipython",
    "version": 3
   },
   "file_extension": ".py",
   "mimetype": "text/x-python",
   "name": "python",
   "nbconvert_exporter": "python",
   "pygments_lexer": "ipython3",
   "version": "3.8.8"
  }
 },
 "nbformat": 4,
 "nbformat_minor": 5
}
