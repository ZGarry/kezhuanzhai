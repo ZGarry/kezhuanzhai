{
 "cells": [
  {
   "cell_type": "code",
   "execution_count": 1,
   "metadata": {},
   "outputs": [
    {
     "name": "stdout",
     "output_type": "stream",
     "text": [
      "      trade_date\n",
      "0     1990-12-19\n",
      "1     1990-12-20\n",
      "2     1990-12-21\n",
      "3     1990-12-24\n",
      "4     1990-12-25\n",
      "...          ...\n",
      "8307  2024-12-25\n",
      "8308  2024-12-26\n",
      "8309  2024-12-27\n",
      "8310  2024-12-30\n",
      "8311  2024-12-31\n",
      "\n",
      "[8312 rows x 1 columns]\n"
     ]
    }
   ],
   "source": [
    "import akshare as ak\n",
    "\n",
    "tool_trade_date_hist_sina_df = ak.tool_trade_date_hist_sina()\n",
    "print(tool_trade_date_hist_sina_df)"
   ]
  },
  {
   "cell_type": "code",
   "execution_count": 4,
   "metadata": {},
   "outputs": [],
   "source": [
    "tool_trade_date_hist_sina_df.to_csv(\"tool_trade_date_hist_sina.csv\")"
   ]
  },
  {
   "cell_type": "code",
   "execution_count": 10,
   "metadata": {},
   "outputs": [
    {
     "data": {
      "text/plain": [
       "False"
      ]
     },
     "execution_count": 10,
     "metadata": {},
     "output_type": "execute_result"
    }
   ],
   "source": [
    "date_obj in tool_trade_date_hist_sina_df['trade_date'].values"
   ]
  },
  {
   "cell_type": "code",
   "execution_count": 8,
   "metadata": {},
   "outputs": [],
   "source": [
    "from datetime import datetime\n",
    "date_str = \"2024-02-19\"\n",
    "date_obj = datetime.strptime(date_str, \"%Y-%m-%d\").date()"
   ]
  },
  {
   "cell_type": "code",
   "execution_count": 1,
   "metadata": {},
   "outputs": [
    {
     "name": "stderr",
     "output_type": "stream",
     "text": [
      " 50%|█████     | 1/2 [00:01<00:01,  1.82s/it]c:\\Users\\11605\\AppData\\Local\\Programs\\Python\\Python311\\Lib\\site-packages\\akshare\\bond\\bond_zh_cov_sina.py:340: FutureWarning: The behavior of DataFrame concatenation with empty or all-NA entries is deprecated. In a future version, this will no longer exclude empty or all-NA columns when determining the result dtypes. To retain the old behavior, exclude the relevant entries before the concat operation.\n",
      "  big_df = pd.concat([big_df, temp_df], ignore_index=True)\n",
      "                                             \r"
     ]
    }
   ],
   "source": [
    "from qmt.util import today_is_trade_day"
   ]
  },
  {
   "cell_type": "code",
   "execution_count": 2,
   "metadata": {},
   "outputs": [
    {
     "data": {
      "text/plain": [
       "True"
      ]
     },
     "execution_count": 2,
     "metadata": {},
     "output_type": "execute_result"
    }
   ],
   "source": [
    "today_is_trade_day()"
   ]
  }
 ],
 "metadata": {
  "kernelspec": {
   "display_name": "Python 3",
   "language": "python",
   "name": "python3"
  },
  "language_info": {
   "codemirror_mode": {
    "name": "ipython",
    "version": 3
   },
   "file_extension": ".py",
   "mimetype": "text/x-python",
   "name": "python",
   "nbconvert_exporter": "python",
   "pygments_lexer": "ipython3",
   "version": "3.11.6"
  }
 },
 "nbformat": 4,
 "nbformat_minor": 2
}
