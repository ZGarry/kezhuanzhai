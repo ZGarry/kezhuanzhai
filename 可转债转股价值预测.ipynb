{
 "cells": [
  {
   "cell_type": "code",
   "execution_count": 17,
   "id": "afaec9c5-7e9c-4c3a-8a4d-2dc37fce96a3",
   "metadata": {},
   "outputs": [],
   "source": [
    "import pandas as pd\n",
    "# 新可转债上市预测\n",
    "file = 'new_bond.xlsx'\n",
    "data = pd.read_excel(file)"
   ]
  },
  {
   "cell_type": "code",
   "execution_count": 21,
   "id": "b4a8607e-2cdb-4b49-9bb0-2b920ab0b48b",
   "metadata": {},
   "outputs": [
    {
     "data": {
      "text/html": [
       "<div>\n",
       "<style scoped>\n",
       "    .dataframe tbody tr th:only-of-type {\n",
       "        vertical-align: middle;\n",
       "    }\n",
       "\n",
       "    .dataframe tbody tr th {\n",
       "        vertical-align: top;\n",
       "    }\n",
       "\n",
       "    .dataframe thead th {\n",
       "        text-align: right;\n",
       "    }\n",
       "</style>\n",
       "<table border=\"1\" class=\"dataframe\">\n",
       "  <thead>\n",
       "    <tr style=\"text-align: right;\">\n",
       "      <th></th>\n",
       "      <th>bondPremRatio</th>\n",
       "      <th>closePriceBond</th>\n",
       "      <th>code</th>\n",
       "      <th>firstDate</th>\n",
       "      <th>remainSize</th>\n",
       "      <th>secShortNameBond</th>\n",
       "      <th>innerValue</th>\n",
       "    </tr>\n",
       "  </thead>\n",
       "  <tbody>\n",
       "    <tr>\n",
       "      <th>0</th>\n",
       "      <td>2.1033</td>\n",
       "      <td>104.180</td>\n",
       "      <td>110041</td>\n",
       "      <td>20180109</td>\n",
       "      <td>18.7522</td>\n",
       "      <td>蒙电转债</td>\n",
       "      <td>102.033921</td>\n",
       "    </tr>\n",
       "    <tr>\n",
       "      <th>1</th>\n",
       "      <td>12.0147</td>\n",
       "      <td>112.379</td>\n",
       "      <td>128024</td>\n",
       "      <td>20180112</td>\n",
       "      <td>100.0000</td>\n",
       "      <td>宁行转债</td>\n",
       "      <td>100.325225</td>\n",
       "    </tr>\n",
       "    <tr>\n",
       "      <th>2</th>\n",
       "      <td>7.9547</td>\n",
       "      <td>101.760</td>\n",
       "      <td>110042</td>\n",
       "      <td>20180115</td>\n",
       "      <td>24.0000</td>\n",
       "      <td>航电转债</td>\n",
       "      <td>94.261760</td>\n",
       "    </tr>\n",
       "    <tr>\n",
       "      <th>3</th>\n",
       "      <td>-0.5855</td>\n",
       "      <td>98.080</td>\n",
       "      <td>113017</td>\n",
       "      <td>20180115</td>\n",
       "      <td>15.6000</td>\n",
       "      <td>吉视转债</td>\n",
       "      <td>98.657640</td>\n",
       "    </tr>\n",
       "    <tr>\n",
       "      <th>4</th>\n",
       "      <td>2.8069</td>\n",
       "      <td>124.530</td>\n",
       "      <td>128029</td>\n",
       "      <td>20180116</td>\n",
       "      <td>12.0000</td>\n",
       "      <td>太阳转债</td>\n",
       "      <td>121.130002</td>\n",
       "    </tr>\n",
       "  </tbody>\n",
       "</table>\n",
       "</div>"
      ],
      "text/plain": [
       "   bondPremRatio  closePriceBond    code  firstDate  remainSize  \\\n",
       "0         2.1033         104.180  110041   20180109     18.7522   \n",
       "1        12.0147         112.379  128024   20180112    100.0000   \n",
       "2         7.9547         101.760  110042   20180115     24.0000   \n",
       "3        -0.5855          98.080  113017   20180115     15.6000   \n",
       "4         2.8069         124.530  128029   20180116     12.0000   \n",
       "\n",
       "  secShortNameBond  innerValue  \n",
       "0             蒙电转债  102.033921  \n",
       "1             宁行转债  100.325225  \n",
       "2             航电转债   94.261760  \n",
       "3             吉视转债   98.657640  \n",
       "4             太阳转债  121.130002  "
      ]
     },
     "execution_count": 21,
     "metadata": {},
     "output_type": "execute_result"
    }
   ],
   "source": [
    "data.head()"
   ]
  },
  {
   "cell_type": "code",
   "execution_count": 18,
   "id": "38637df3-4a80-43f2-8f80-d426e6b099dd",
   "metadata": {},
   "outputs": [],
   "source": [
    "data = data.drop('Unnamed: 0',axis=1)"
   ]
  },
  {
   "cell_type": "code",
   "execution_count": 19,
   "id": "e76c4529-be70-48c1-abf8-c43b7e6bea7f",
   "metadata": {},
   "outputs": [],
   "source": [
    "# 转债价格 / （1+溢价率） == 股票价值\n",
    "data['innerValue'] = data['closePriceBond']/(1+data['bondPremRatio']/100)\n",
    "X = data['innerValue']\n",
    "Y=data['closePriceBond']"
   ]
  },
  {
   "cell_type": "code",
   "execution_count": 20,
   "id": "cd03371c-dc97-4588-aba0-0e5f6828fdb2",
   "metadata": {},
   "outputs": [],
   "source": [
    "import numpy as np\n",
    "\n",
    "# 使用指数拟合\n",
    "from scipy.optimize import curve_fit\n",
    "def func(x,a,b):\n",
    "      # 长段预测     \n",
    "    return a*np.exp(b/x)\n",
    "\n",
    "# 任意函数可用作拟合，其他参数都会自动给出\n",
    "popt,pcov=curve_fit(func,X,Y)\n",
    "\n",
    "a=popt[0] #popt里面是拟合系数，读者可以自己help其用法\n",
    "\n",
    "b=popt[1]\n",
    "\n",
    "zs_yvals=func(X,a,b)"
   ]
  },
  {
   "cell_type": "code",
   "execution_count": 24,
   "id": "fdbd17bd-766c-4dd5-a539-6b677b942855",
   "metadata": {},
   "outputs": [
    {
     "data": {
      "text/html": [
       "<div>\n",
       "<style scoped>\n",
       "    .dataframe tbody tr th:only-of-type {\n",
       "        vertical-align: middle;\n",
       "    }\n",
       "\n",
       "    .dataframe tbody tr th {\n",
       "        vertical-align: top;\n",
       "    }\n",
       "\n",
       "    .dataframe thead th {\n",
       "        text-align: right;\n",
       "    }\n",
       "</style>\n",
       "<table border=\"1\" class=\"dataframe\">\n",
       "  <thead>\n",
       "    <tr style=\"text-align: right;\">\n",
       "      <th></th>\n",
       "      <th>bondPremRatio</th>\n",
       "      <th>closePriceBond</th>\n",
       "      <th>code</th>\n",
       "      <th>firstDate</th>\n",
       "      <th>remainSize</th>\n",
       "      <th>secShortNameBond</th>\n",
       "      <th>innerValue</th>\n",
       "    </tr>\n",
       "  </thead>\n",
       "  <tbody>\n",
       "    <tr>\n",
       "      <th>457</th>\n",
       "      <td>30.7328</td>\n",
       "      <td>122.6</td>\n",
       "      <td>127037</td>\n",
       "      <td>20210709</td>\n",
       "      <td>7.0</td>\n",
       "      <td>银轮转债</td>\n",
       "      <td>93.779067</td>\n",
       "    </tr>\n",
       "  </tbody>\n",
       "</table>\n",
       "</div>"
      ],
      "text/plain": [
       "     bondPremRatio  closePriceBond    code  firstDate  remainSize  \\\n",
       "457        30.7328           122.6  127037   20210709         7.0   \n",
       "\n",
       "    secShortNameBond  innerValue  \n",
       "457             银轮转债   93.779067  "
      ]
     },
     "execution_count": 24,
     "metadata": {},
     "output_type": "execute_result"
    }
   ],
   "source": [
    "data[data['secShortNameBond']=='银轮转债']"
   ]
  },
  {
   "cell_type": "code",
   "execution_count": 23,
   "id": "88ad0b8c-4ea5-4bcd-a30a-ca317d2826b6",
   "metadata": {},
   "outputs": [
    {
     "data": {
      "text/plain": [
       "457    109.05568\n",
       "Name: innerValue, dtype: float64"
      ]
     },
     "execution_count": 23,
     "metadata": {},
     "output_type": "execute_result"
    }
   ],
   "source": [
    "func(['innerValue'],a,b)"
   ]
  },
  {
   "cell_type": "code",
   "execution_count": 16,
   "id": "7212a9f6-1a8b-4331-b922-5418a39d37a0",
   "metadata": {},
   "outputs": [
    {
     "name": "stderr",
     "output_type": "stream",
     "text": [
      "<ipython-input-11-e89683eee19e>:7: RuntimeWarning: divide by zero encountered in true_divide\n",
      "  return a*np.exp(b/x)\n"
     ]
    },
    {
     "data": {
      "image/png": "[encoded data removed]",
      "text/plain": [
       "<Figure size 432x288 with 1 Axes>"
      ]
     },
     "metadata": {
      "needs_background": "light"
     },
     "output_type": "display_data"
    }
   ],
   "source": [
    "# 绘图\n",
    "import matplotlib.pyplot as plt\n",
    "# 数据点与原先的进行画图比较\n",
    "# 原本点\n",
    "plt.scatter(X, Y, marker='o',label='real')\n",
    "# 拟合点\n",
    "x = np.arange(0, 180, 0.01)\n",
    "y = func(x,a,b)\n",
    "plt.plot(x, y,color='red',label='curve_fit')\n",
    "plt.legend()\n",
    "plt.title('XXX')\n",
    "plt.show()"
   ]
  }
 ],
 "metadata": {
  "kernelspec": {
   "display_name": "Python 3",
   "language": "python",
   "name": "python3"
  },
  "language_info": {
   "codemirror_mode": {
    "name": "ipython",
    "version": 3
   },
   "file_extension": ".py",
   "mimetype": "text/x-python",
   "name": "python",
   "nbconvert_exporter": "python",
   "pygments_lexer": "ipython3",
   "version": "3.8.8"
  }
 },
 "nbformat": 4,
 "nbformat_minor": 5
}
