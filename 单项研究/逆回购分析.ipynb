{
 "cells": [
  {
   "cell_type": "markdown",
   "metadata": {},
   "source": [
    "## 逆回购分析"
   ]
  },
  {
   "cell_type": "code",
   "execution_count": 3,
   "metadata": {},
   "outputs": [
    {
     "name": "stdout",
     "output_type": "stream",
     "text": [
      "年化利率: 0.020200781032923\n"
     ]
    }
   ],
   "source": [
    "daily_interest_rate = 0.02/365\n",
    "trading_days_per_year = 365 # 虽然交易日没有那么多，但是非交易日购买。中间卖出也可以获得一部分资金\n",
    "\n",
    "annual_interest_rate = (1 + daily_interest_rate) ** trading_days_per_year - 1\n",
    "\n",
    "print(\"年化利率:\", annual_interest_rate)"
   ]
  },
  {
   "cell_type": "markdown",
   "metadata": {},
   "source": [
    "结论：逆回购基本年化收益为2%。这2%再创收的2%（每天资金继续投入）的过程，所产生的钱可忽略不计。\n",
    "要想实现日级复利，必须是很大的利息，才可以。"
   ]
  }
 ],
 "metadata": {
  "kernelspec": {
   "display_name": "Python 3",
   "language": "python",
   "name": "python3"
  },
  "language_info": {
   "codemirror_mode": {
    "name": "ipython",
    "version": 3
   },
   "file_extension": ".py",
   "mimetype": "text/x-python",
   "name": "python",
   "nbconvert_exporter": "python",
   "pygments_lexer": "ipython3",
   "version": "3.11.6"
  }
 },
 "nbformat": 4,
 "nbformat_minor": 2
}
