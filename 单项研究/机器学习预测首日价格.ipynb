{
 "cells": [
  {
   "cell_type": "code",
   "execution_count": 39,
   "id": "adf0ee09-0b3e-4379-9796-b561fdb4e471",
   "metadata": {},
   "outputs": [],
   "source": [
    "import pandas as pd\n",
    "# 新可转债上市预测\n",
    "file = 'data/机器学习新债数据.xlsx'\n",
    "data = pd.read_excel(file,index_col=0)"
   ]
  },
  {
   "cell_type": "code",
   "execution_count": 10,
   "id": "87b8c58b-7b0c-485a-88a8-b05715b07e6f",
   "metadata": {},
   "outputs": [
    {
     "data": {
      "text/html": [
       "<div>\n",
       "<style scoped>\n",
       "    .dataframe tbody tr th:only-of-type {\n",
       "        vertical-align: middle;\n",
       "    }\n",
       "\n",
       "    .dataframe tbody tr th {\n",
       "        vertical-align: top;\n",
       "    }\n",
       "\n",
       "    .dataframe thead th {\n",
       "        text-align: right;\n",
       "    }\n",
       "</style>\n",
       "<table border=\"1\" class=\"dataframe\">\n",
       "  <thead>\n",
       "    <tr style=\"text-align: right;\">\n",
       "      <th></th>\n",
       "      <th>bondPremRatio</th>\n",
       "      <th>call_trigger_date</th>\n",
       "      <th>call_trigger_rate</th>\n",
       "      <th>closePriceBond</th>\n",
       "      <th>code</th>\n",
       "      <th>coupon</th>\n",
       "      <th>firstDate</th>\n",
       "      <th>industry</th>\n",
       "      <th>neg_market_value</th>\n",
       "      <th>put_trigger_date</th>\n",
       "      <th>put_trigger_rate</th>\n",
       "      <th>rate</th>\n",
       "      <th>remainSize</th>\n",
       "      <th>secShortNameBond</th>\n",
       "    </tr>\n",
       "  </thead>\n",
       "  <tbody>\n",
       "    <tr>\n",
       "      <th>0</th>\n",
       "      <td>2.1033</td>\n",
       "      <td>30</td>\n",
       "      <td>130</td>\n",
       "      <td>104.180</td>\n",
       "      <td>110041</td>\n",
       "      <td>0.4</td>\n",
       "      <td>20180109</td>\n",
       "      <td>公用事业</td>\n",
       "      <td>1.748131e+10</td>\n",
       "      <td>30.0</td>\n",
       "      <td>70.0</td>\n",
       "      <td>AAA</td>\n",
       "      <td>18.7522</td>\n",
       "      <td>蒙电转债</td>\n",
       "    </tr>\n",
       "    <tr>\n",
       "      <th>1</th>\n",
       "      <td>12.0147</td>\n",
       "      <td>30</td>\n",
       "      <td>130</td>\n",
       "      <td>112.379</td>\n",
       "      <td>128024</td>\n",
       "      <td>0.2</td>\n",
       "      <td>20180112</td>\n",
       "      <td>银行</td>\n",
       "      <td>8.327123e+10</td>\n",
       "      <td>-1.0</td>\n",
       "      <td>-1.0</td>\n",
       "      <td>AAA</td>\n",
       "      <td>100.0000</td>\n",
       "      <td>宁行转债</td>\n",
       "    </tr>\n",
       "    <tr>\n",
       "      <th>2</th>\n",
       "      <td>7.9547</td>\n",
       "      <td>30</td>\n",
       "      <td>130</td>\n",
       "      <td>101.760</td>\n",
       "      <td>110042</td>\n",
       "      <td>0.2</td>\n",
       "      <td>20180115</td>\n",
       "      <td>国防军工</td>\n",
       "      <td>2.369592e+10</td>\n",
       "      <td>30.0</td>\n",
       "      <td>70.0</td>\n",
       "      <td>AAA</td>\n",
       "      <td>24.0000</td>\n",
       "      <td>航电转债</td>\n",
       "    </tr>\n",
       "    <tr>\n",
       "      <th>3</th>\n",
       "      <td>-0.5855</td>\n",
       "      <td>30</td>\n",
       "      <td>130</td>\n",
       "      <td>98.080</td>\n",
       "      <td>113017</td>\n",
       "      <td>0.3</td>\n",
       "      <td>20180115</td>\n",
       "      <td>传媒</td>\n",
       "      <td>9.145756e+09</td>\n",
       "      <td>30.0</td>\n",
       "      <td>70.0</td>\n",
       "      <td>AA+</td>\n",
       "      <td>15.6000</td>\n",
       "      <td>吉视转债</td>\n",
       "    </tr>\n",
       "    <tr>\n",
       "      <th>4</th>\n",
       "      <td>2.8069</td>\n",
       "      <td>30</td>\n",
       "      <td>130</td>\n",
       "      <td>124.530</td>\n",
       "      <td>128029</td>\n",
       "      <td>0.3</td>\n",
       "      <td>20180116</td>\n",
       "      <td>轻工制造</td>\n",
       "      <td>2.712261e+10</td>\n",
       "      <td>30.0</td>\n",
       "      <td>70.0</td>\n",
       "      <td>AA+</td>\n",
       "      <td>12.0000</td>\n",
       "      <td>太阳转债</td>\n",
       "    </tr>\n",
       "  </tbody>\n",
       "</table>\n",
       "</div>"
      ],
      "text/plain": [
       "   bondPremRatio  call_trigger_date  call_trigger_rate  closePriceBond  \\\n",
       "0         2.1033                 30                130         104.180   \n",
       "1        12.0147                 30                130         112.379   \n",
       "2         7.9547                 30                130         101.760   \n",
       "3        -0.5855                 30                130          98.080   \n",
       "4         2.8069                 30                130         124.530   \n",
       "\n",
       "     code  coupon  firstDate industry  neg_market_value  put_trigger_date  \\\n",
       "0  110041     0.4   20180109     公用事业      1.748131e+10              30.0   \n",
       "1  128024     0.2   20180112       银行      8.327123e+10              -1.0   \n",
       "2  110042     0.2   20180115     国防军工      2.369592e+10              30.0   \n",
       "3  113017     0.3   20180115       传媒      9.145756e+09              30.0   \n",
       "4  128029     0.3   20180116     轻工制造      2.712261e+10              30.0   \n",
       "\n",
       "   put_trigger_rate rate  remainSize secShortNameBond  \n",
       "0              70.0  AAA     18.7522             蒙电转债  \n",
       "1              -1.0  AAA    100.0000             宁行转债  \n",
       "2              70.0  AAA     24.0000             航电转债  \n",
       "3              70.0  AA+     15.6000             吉视转债  \n",
       "4              70.0  AA+     12.0000             太阳转债  "
      ]
     },
     "execution_count": 10,
     "metadata": {},
     "output_type": "execute_result"
    }
   ],
   "source": [
    "data.head()"
   ]
  },
  {
   "cell_type": "code",
   "execution_count": 11,
   "id": "5784a3f5-3fc4-4197-ac03-ad170cb17c59",
   "metadata": {},
   "outputs": [
    {
     "name": "stdout",
     "output_type": "stream",
     "text": [
      "<class 'pandas.core.frame.DataFrame'>\n",
      "Int64Index: 458 entries, 0 to 457\n",
      "Data columns (total 14 columns):\n",
      " #   Column             Non-Null Count  Dtype  \n",
      "---  ------             --------------  -----  \n",
      " 0   bondPremRatio      458 non-null    float64\n",
      " 1   call_trigger_date  458 non-null    int64  \n",
      " 2   call_trigger_rate  458 non-null    int64  \n",
      " 3   closePriceBond     458 non-null    float64\n",
      " 4   code               458 non-null    int64  \n",
      " 5   coupon             458 non-null    float64\n",
      " 6   firstDate          458 non-null    int64  \n",
      " 7   industry           458 non-null    object \n",
      " 8   neg_market_value   458 non-null    float64\n",
      " 9   put_trigger_date   454 non-null    float64\n",
      " 10  put_trigger_rate   454 non-null    float64\n",
      " 11  rate               458 non-null    object \n",
      " 12  remainSize         458 non-null    float64\n",
      " 13  secShortNameBond   458 non-null    object \n",
      "dtypes: float64(7), int64(4), object(3)\n",
      "memory usage: 53.7+ KB\n"
     ]
    }
   ],
   "source": [
    "data.info()"
   ]
  },
  {
   "cell_type": "code",
   "execution_count": 40,
   "id": "919ccbd7-7db4-4af4-89be-3332b7ccd039",
   "metadata": {},
   "outputs": [],
   "source": [
    "def convert_permratio_inner(bondPremRatio):\n",
    "    return 100/(bondPremRatio/100+1)\n",
    "\n",
    "# 队列执行map操作\n",
    "data['innerValue'] = data['bondPremRatio'].map(lambda x:convert_permratio_inner(x))"
   ]
  },
  {
   "cell_type": "code",
   "execution_count": 41,
   "id": "1e554bb0-e548-48cf-9794-94e8e08e9f41",
   "metadata": {},
   "outputs": [],
   "source": [
    "rate_map = {\n",
    "    'A':0,\n",
    "    'A+':1,\n",
    "    'AA-':2,\n",
    "    'AA':3,\n",
    "    'AA+':4,\n",
    "    'AAA':5\n",
    "}\n",
    "\n",
    "data['rate'] = data['rate'].map(lambda x:rate_map.get(x,-1))"
   ]
  },
  {
   "cell_type": "code",
   "execution_count": 42,
   "id": "9e5dae0b-1dae-4c4a-8c73-b7316bb8f84c",
   "metadata": {},
   "outputs": [],
   "source": [
    "industry_map = {\n",
    "'化工':0,\n",
    "'医药生物':    1,\n",
    "'机械设备':    2,\n",
    "'电子':      3,\n",
    "'电气设备':   4,\n",
    "'轻工制造':    5,\n",
    "'汽车':      6,\n",
    "'有色金属':   7,\n",
    "'计算机':     8,\n",
    "'建筑装饰':    9,\n",
    "'公用事业':    10,\n",
    "'农林牧渔':    11,\n",
    "'银行':    12,\n",
    "'纺织服装':    13,\n",
    "'食品饮料':    14,\n",
    "'国防军工':     15,\n",
    "'通信':       16,\n",
    "'非银金融':     17,\n",
    "'交通运输':     18,\n",
    "'家用电器':     19,\n",
    "'建筑材料':     20,\n",
    "'采掘':       21,\n",
    "'钢铁':       22,\n",
    "'传媒':       23,\n",
    "'商业贸易':    24,\n",
    "'休闲服务':  25,\n",
    "}\n",
    "data['industry']=data['industry'].map(lambda x:industry_map.get(x,-1))"
   ]
  },
  {
   "cell_type": "code",
   "execution_count": 43,
   "id": "2707a71c-6c89-4ac0-b504-2a2d4d63468c",
   "metadata": {},
   "outputs": [
    {
     "data": {
      "text/html": [
       "<div>\n",
       "<style scoped>\n",
       "    .dataframe tbody tr th:only-of-type {\n",
       "        vertical-align: middle;\n",
       "    }\n",
       "\n",
       "    .dataframe tbody tr th {\n",
       "        vertical-align: top;\n",
       "    }\n",
       "\n",
       "    .dataframe thead th {\n",
       "        text-align: right;\n",
       "    }\n",
       "</style>\n",
       "<table border=\"1\" class=\"dataframe\">\n",
       "  <thead>\n",
       "    <tr style=\"text-align: right;\">\n",
       "      <th></th>\n",
       "      <th>bondPremRatio</th>\n",
       "      <th>call_trigger_date</th>\n",
       "      <th>call_trigger_rate</th>\n",
       "      <th>closePriceBond</th>\n",
       "      <th>code</th>\n",
       "      <th>coupon</th>\n",
       "      <th>firstDate</th>\n",
       "      <th>industry</th>\n",
       "      <th>neg_market_value</th>\n",
       "      <th>put_trigger_date</th>\n",
       "      <th>put_trigger_rate</th>\n",
       "      <th>rate</th>\n",
       "      <th>remainSize</th>\n",
       "      <th>secShortNameBond</th>\n",
       "      <th>innerValue</th>\n",
       "    </tr>\n",
       "  </thead>\n",
       "  <tbody>\n",
       "    <tr>\n",
       "      <th>0</th>\n",
       "      <td>2.1033</td>\n",
       "      <td>30</td>\n",
       "      <td>130</td>\n",
       "      <td>104.180</td>\n",
       "      <td>110041</td>\n",
       "      <td>0.4</td>\n",
       "      <td>20180109</td>\n",
       "      <td>10</td>\n",
       "      <td>1.748131e+10</td>\n",
       "      <td>30.0</td>\n",
       "      <td>70.0</td>\n",
       "      <td>5</td>\n",
       "      <td>18.7522</td>\n",
       "      <td>蒙电转债</td>\n",
       "      <td>97.940027</td>\n",
       "    </tr>\n",
       "    <tr>\n",
       "      <th>1</th>\n",
       "      <td>12.0147</td>\n",
       "      <td>30</td>\n",
       "      <td>130</td>\n",
       "      <td>112.379</td>\n",
       "      <td>128024</td>\n",
       "      <td>0.2</td>\n",
       "      <td>20180112</td>\n",
       "      <td>12</td>\n",
       "      <td>8.327123e+10</td>\n",
       "      <td>-1.0</td>\n",
       "      <td>-1.0</td>\n",
       "      <td>5</td>\n",
       "      <td>100.0000</td>\n",
       "      <td>宁行转债</td>\n",
       "      <td>89.273997</td>\n",
       "    </tr>\n",
       "    <tr>\n",
       "      <th>2</th>\n",
       "      <td>7.9547</td>\n",
       "      <td>30</td>\n",
       "      <td>130</td>\n",
       "      <td>101.760</td>\n",
       "      <td>110042</td>\n",
       "      <td>0.2</td>\n",
       "      <td>20180115</td>\n",
       "      <td>15</td>\n",
       "      <td>2.369592e+10</td>\n",
       "      <td>30.0</td>\n",
       "      <td>70.0</td>\n",
       "      <td>5</td>\n",
       "      <td>24.0000</td>\n",
       "      <td>航电转债</td>\n",
       "      <td>92.631446</td>\n",
       "    </tr>\n",
       "    <tr>\n",
       "      <th>3</th>\n",
       "      <td>-0.5855</td>\n",
       "      <td>30</td>\n",
       "      <td>130</td>\n",
       "      <td>98.080</td>\n",
       "      <td>113017</td>\n",
       "      <td>0.3</td>\n",
       "      <td>20180115</td>\n",
       "      <td>23</td>\n",
       "      <td>9.145756e+09</td>\n",
       "      <td>30.0</td>\n",
       "      <td>70.0</td>\n",
       "      <td>4</td>\n",
       "      <td>15.6000</td>\n",
       "      <td>吉视转债</td>\n",
       "      <td>100.588948</td>\n",
       "    </tr>\n",
       "    <tr>\n",
       "      <th>4</th>\n",
       "      <td>2.8069</td>\n",
       "      <td>30</td>\n",
       "      <td>130</td>\n",
       "      <td>124.530</td>\n",
       "      <td>128029</td>\n",
       "      <td>0.3</td>\n",
       "      <td>20180116</td>\n",
       "      <td>5</td>\n",
       "      <td>2.712261e+10</td>\n",
       "      <td>30.0</td>\n",
       "      <td>70.0</td>\n",
       "      <td>4</td>\n",
       "      <td>12.0000</td>\n",
       "      <td>太阳转债</td>\n",
       "      <td>97.269736</td>\n",
       "    </tr>\n",
       "  </tbody>\n",
       "</table>\n",
       "</div>"
      ],
      "text/plain": [
       "   bondPremRatio  call_trigger_date  call_trigger_rate  closePriceBond  \\\n",
       "0         2.1033                 30                130         104.180   \n",
       "1        12.0147                 30                130         112.379   \n",
       "2         7.9547                 30                130         101.760   \n",
       "3        -0.5855                 30                130          98.080   \n",
       "4         2.8069                 30                130         124.530   \n",
       "\n",
       "     code  coupon  firstDate  industry  neg_market_value  put_trigger_date  \\\n",
       "0  110041     0.4   20180109        10      1.748131e+10              30.0   \n",
       "1  128024     0.2   20180112        12      8.327123e+10              -1.0   \n",
       "2  110042     0.2   20180115        15      2.369592e+10              30.0   \n",
       "3  113017     0.3   20180115        23      9.145756e+09              30.0   \n",
       "4  128029     0.3   20180116         5      2.712261e+10              30.0   \n",
       "\n",
       "   put_trigger_rate  rate  remainSize secShortNameBond  innerValue  \n",
       "0              70.0     5     18.7522             蒙电转债   97.940027  \n",
       "1              -1.0     5    100.0000             宁行转债   89.273997  \n",
       "2              70.0     5     24.0000             航电转债   92.631446  \n",
       "3              70.0     4     15.6000             吉视转债  100.588948  \n",
       "4              70.0     4     12.0000             太阳转债   97.269736  "
      ]
     },
     "execution_count": 43,
     "metadata": {},
     "output_type": "execute_result"
    }
   ],
   "source": [
    "data.head()"
   ]
  },
  {
   "cell_type": "code",
   "execution_count": 83,
   "id": "afa6f180-c8cb-4972-9c9e-75dee1bbac73",
   "metadata": {},
   "outputs": [],
   "source": [
    "data = data[data.isna().any(axis=1)==False]\n",
    "target = data['closePriceBond']\n",
    "\n",
    "train_data = data.copy()\n",
    "train_data.drop('secShortNameBond',inplace=True,axis=1)\n",
    "# 溢价率(反应在价值中了)\n",
    "train_data.drop('bondPremRatio',inplace=True,axis=1)\n",
    "# 首日价格,要计算的部分\n",
    "train_data.drop('closePriceBond',axis=1,inplace=True)\n",
    "train_data.drop('firstDate',axis=1,inplace=True)\n",
    "train_data.drop('code',axis=1,inplace=True)"
   ]
  },
  {
   "cell_type": "code",
   "execution_count": 84,
   "id": "1181cb0c-3b53-4337-bcd9-b7b1caf1144f",
   "metadata": {},
   "outputs": [],
   "source": [
    "from sklearn.model_selection import train_test_split\n",
    "X_train,X_test,y_train,y_test = train_test_split(train_data,target,random_state=4)"
   ]
  },
  {
   "cell_type": "code",
   "execution_count": 50,
   "id": "e469b0b8-ca31-4641-89db-a8a466615432",
   "metadata": {},
   "outputs": [],
   "source": [
    "from sklearn.ensemble import RandomForestRegressor\n",
    "from sklearn.model_selection import GridSearchCV\n",
    "param_grid = {\n",
    "    'bootstrap': [True],\n",
    "    'max_depth': [5,10],\n",
    "    'max_features': [4,5,6],\n",
    "    'min_samples_leaf': [3, 4, 5],\n",
    "    'min_samples_split': [8, 10, 12],\n",
    "    'n_estimators': [30]\n",
    "}\n",
    "# Create a based model\n",
    "rf = RandomForestRegressor()# Instantiate the grid search model\n",
    "grid_search = GridSearchCV(estimator = rf, param_grid = param_grid, \n",
    "                          cv = 3, n_jobs = -1, verbose = 2)"
   ]
  },
  {
   "cell_type": "code",
   "execution_count": 85,
   "id": "5b39efb6-d90f-4cd0-bd72-cf5f04fb5a42",
   "metadata": {},
   "outputs": [
    {
     "name": "stdout",
     "output_type": "stream",
     "text": [
      "Fitting 3 folds for each of 54 candidates, totalling 162 fits\n"
     ]
    },
    {
     "data": {
      "text/plain": [
       "GridSearchCV(cv=3, estimator=RandomForestRegressor(), n_jobs=-1,\n",
       "             param_grid={'bootstrap': [True], 'max_depth': [5, 10],\n",
       "                         'max_features': [4, 5, 6],\n",
       "                         'min_samples_leaf': [3, 4, 5],\n",
       "                         'min_samples_split': [8, 10, 12],\n",
       "                         'n_estimators': [30]},\n",
       "             verbose=2)"
      ]
     },
     "execution_count": 85,
     "metadata": {},
     "output_type": "execute_result"
    }
   ],
   "source": [
    "grid_search.fit(X_train,y_train)"
   ]
  },
  {
   "cell_type": "code",
   "execution_count": 86,
   "id": "1c91db4f-7f85-48c8-ba45-c6449adcc079",
   "metadata": {},
   "outputs": [
    {
     "data": {
      "text/plain": [
       "{'bootstrap': True,\n",
       " 'max_depth': 5,\n",
       " 'max_features': 6,\n",
       " 'min_samples_leaf': 5,\n",
       " 'min_samples_split': 10,\n",
       " 'n_estimators': 30}"
      ]
     },
     "execution_count": 86,
     "metadata": {},
     "output_type": "execute_result"
    }
   ],
   "source": [
    "grid_search.best_params_"
   ]
  },
  {
   "cell_type": "code",
   "execution_count": 87,
   "id": "5fbf8cdb-61a0-42cc-9522-def9ea7c814d",
   "metadata": {},
   "outputs": [],
   "source": [
    "rf_ = RandomForestRegressor(**grid_search.best_params_)\n",
    "rf_.fit(X_train,y_train)\n",
    "y_pred_grid = rf_.predict(X_test)"
   ]
  },
  {
   "cell_type": "code",
   "execution_count": 88,
   "id": "5ed31d62-04e4-43ea-9b4c-913eeb006fd3",
   "metadata": {},
   "outputs": [],
   "source": [
    "def evaluate_(y_test,y_test_pre):\n",
    "    import sklearn.metrics as sm\n",
    "    import numpy as np\n",
    "    print('mean absolute error=',round(sm.mean_absolute_error(y_test,y_test_pre),2))\n",
    "    print('mean squared error=',round(sm.mean_squared_error(y_test,y_test_pre),2))\n",
    "    print('median absolute error=',round(sm.median_absolute_error(y_test,y_test_pre),2))\n",
    "    print('explained variance score=',round(sm.explained_variance_score(y_test,y_test_pre),2))\n",
    "    print('R2 score=',round(sm.r2_score(y_test,y_test_pre),2))\n",
    "\n",
    "#     mape = 100 * np.mean(errors / test_labels)\n",
    "#     accuracy = 100 - mape\n",
    "#     print('Model Performance')\n",
    "#     print('Average Error: {:0.4f} degrees.'.format(np.mean(errors)))\n",
    "#     print('Accuracy = {:0.2f}%.'.format(accuracy))"
   ]
  },
  {
   "cell_type": "code",
   "execution_count": 89,
   "id": "1ec9884d-21b2-4b4f-bbfb-7c1b26138b83",
   "metadata": {},
   "outputs": [
    {
     "name": "stdout",
     "output_type": "stream",
     "text": [
      "mean absolute error= 9.29\n",
      "mean squared error= 129.3\n",
      "median absolute error= 8.0\n",
      "explained variance score= 0.18\n",
      "R2 score= 0.17\n"
     ]
    }
   ],
   "source": [
    "# rf_.score(X_test, y_test)\n",
    "evaluate_(y_test,y_pred_grid)"
   ]
  },
  {
   "cell_type": "code",
   "execution_count": 90,
   "id": "5df1e1fe-f221-4054-8319-be2db420a7aa",
   "metadata": {},
   "outputs": [
    {
     "name": "stdout",
     "output_type": "stream",
     "text": [
      " 1) neg_market_value               43.00\n",
      " 2) innerValue                     26.00\n",
      " 3) remainSize                     13.00\n",
      " 4) industry                       7.00\n",
      " 5) rate                           6.00\n",
      " 6) coupon                         3.00\n",
      " 7) put_trigger_rate               1.00\n",
      " 8) put_trigger_date               1.00\n",
      " 9) call_trigger_rate              0.00\n",
      "10) call_trigger_date              0.00\n"
     ]
    }
   ],
   "source": [
    "import numpy as np\n",
    "importances = rf_.feature_importances_\n",
    "importances=list(map(lambda x:round(x*100,0),importances))\n",
    "indices = np.argsort(importances)[::-1]\n",
    "for f in range(X_train.shape[1]):\n",
    "    print(\"%2d) %-*s %.2f\" % (f + 1, 30, X_train.columns[indices[f]], importances[indices[f]]))"
   ]
  },
  {
   "cell_type": "code",
   "execution_count": 96,
   "id": "08063436-18e7-4f89-9041-51a762fa839e",
   "metadata": {},
   "outputs": [
    {
     "data": {
      "text/plain": [
       "['train_model.m']"
      ]
     },
     "execution_count": 96,
     "metadata": {},
     "output_type": "execute_result"
    }
   ],
   "source": [
    "import joblib\n",
    "joblib.dump(rf_, \"train_model.m\")\n",
    "# clf = joblib.load(\"train_model.m\")\n",
    "# clf.predict(x)"
   ]
  },
  {
   "cell_type": "code",
   "execution_count": 95,
   "id": "ef1d1451-88db-4f1b-8942-06f33c6f043e",
   "metadata": {},
   "outputs": [],
   "source": [
    "with open('new_bond_tree.dot','w') as f:\n",
    "    tree.export_graphviz(rf_.estimators_[0],feature_names=list(train_data.columns),out_file=f)"
   ]
  },
  {
   "cell_type": "code",
   "execution_count": 92,
   "id": "02f95ea5-090c-4e1e-91c2-76a898312edf",
   "metadata": {},
   "outputs": [],
   "source": [
    "from sklearn import tree,preprocessing"
   ]
  },
  {
   "cell_type": "code",
   "execution_count": 99,
   "id": "d44eb8eb-d226-40f5-bbec-f945e5478a14",
   "metadata": {},
   "outputs": [],
   "source": [
    "input_data = {\n",
    "'innerValue':convert_permratio_inner((30.980/28.96-1)*100),\n",
    "'call_trigger_date':30,\n",
    "'call_trigger_rate':130, # 强赎\n",
    "'coupon':0.1,\n",
    "'industry':industry_map.get('电气设备'),\n",
    "# 'neg_market_value':21042642880,\n",
    "'put_trigger_date':30,\n",
    "'put_trigger_rate':70, # triggerRate 回售触发票面比例（%）\n",
    "'rate':rate_map.get('A+'),\n",
    "'remainSize':4.3*10**8,\n",
    " 'neg_market_value':52.13*10**8\n",
    "}"
   ]
  },
  {
   "cell_type": "code",
   "execution_count": 100,
   "id": "17468521-dc9c-4d34-80f3-61fd68396c70",
   "metadata": {},
   "outputs": [
    {
     "data": {
      "text/plain": [
       "112.86453530357443"
      ]
     },
     "execution_count": 100,
     "metadata": {},
     "output_type": "execute_result"
    }
   ],
   "source": [
    "df_real = pd.DataFrame([input_data])\n",
    "rf_.predict(df_real)[0]"
   ]
  }
 ],
 "metadata": {
  "kernelspec": {
   "display_name": "Python 3",
   "language": "python",
   "name": "python3"
  },
  "language_info": {
   "codemirror_mode": {
    "name": "ipython",
    "version": 3
   },
   "file_extension": ".py",
   "mimetype": "text/x-python",
   "name": "python",
   "nbconvert_exporter": "python",
   "pygments_lexer": "ipython3",
   "version": "3.10.5"
  }
 },
 "nbformat": 4,
 "nbformat_minor": 5
}
