{
 "cells": [
  {
   "cell_type": "code",
   "execution_count": 1,
   "metadata": {},
   "outputs": [
    {
     "name": "stderr",
     "output_type": "stream",
     "text": [
      " 50%|█████     | 1/2 [00:01<00:01,  1.68s/it]c:\\Users\\11605\\AppData\\Local\\Programs\\Python\\Python311\\Lib\\site-packages\\akshare\\bond\\bond_zh_cov_sina.py:340: FutureWarning: The behavior of DataFrame concatenation with empty or all-NA entries is deprecated. In a future version, this will no longer exclude empty or all-NA columns when determining the result dtypes. To retain the old behavior, exclude the relevant entries before the concat operation.\n",
      "  big_df = pd.concat([big_df, temp_df], ignore_index=True)\n",
      "                                             \r"
     ]
    },
    {
     "name": "stdout",
     "output_type": "stream",
     "text": [
      "start\n",
      "建立交易连接，返回0表示连接成功 0\n",
      "对交易回调进行订阅，订阅后可以收到交易主推，返回0表示订阅成功 0\n"
     ]
    }
   ],
   "source": [
    "import time\n",
    "\n",
    "import schedule\n",
    "\n",
    "from MyPos import MyPos\n",
    "from Settings import test_mode\n",
    "from init import xt_trader, acc\n",
    "from checkDebt import check_debt\n",
    "from DateChecker import registChecker\n"
   ]
  },
  {
   "cell_type": "code",
   "execution_count": 2,
   "metadata": {},
   "outputs": [],
   "source": [
    "my = MyPos(xt_trader, acc)"
   ]
  },
  {
   "cell_type": "code",
   "execution_count": 3,
   "metadata": {},
   "outputs": [
    {
     "name": "stdout",
     "output_type": "stream",
     "text": [
      "股票113589.SH持有950股，市值95522.5，平均建仓成本99.647\n",
      "股票113596.SH持有950股，市值92187.05，平均建仓成本96.989\n",
      "股票123044.SZ持有950股，市值96787.90000000001，平均建仓成本99.193\n",
      "股票127061.SZ持有950股，市值94660.85，平均建仓成本100.706\n",
      "股票127095.SZ持有10股，市值1243.43，平均建仓成本100.0\n",
      "股票128085.SZ持有240股，市值19946.160000000003，平均建仓成本119.202\n",
      "股票128124.SZ持有950股，市值94692.2，平均建仓成本100.081\n",
      "股票128129.SZ持有950股，市值96964.59999999999，平均建仓成本102.20799999999998\n",
      "总市值592004.6900000001\n",
      "现金:148550.65,股票持仓:592004.69\n"
     ]
    }
   ],
   "source": [
    "my.showMyPos()"
   ]
  },
  {
   "cell_type": "code",
   "execution_count": 5,
   "metadata": {},
   "outputs": [
    {
     "name": "stdout",
     "output_type": "stream",
     "text": [
      "异步委托回调 204001.SH\n",
      "2023-11-14 09:54:50.391666 委托回调 204001.SH\n",
      "2023-11-14 09:54:50.406697 委托回调 204001.SH\n",
      "2023-11-14 09:54:50.406697 成交回调 204001.SH\n",
      "2023-11-14 09:54:50.406697 委托回调 204001.SH\n",
      "2023-11-14 10:17:30.492111 on_account_status\n",
      "2023-11-14 10:21:45.579045 on_account_status\n",
      "2023-11-14 10:34:16.718343 委托回调 204001.SH\n",
      "2023-11-14 10:34:16.733472 成交回调 204001.SH\n",
      "2023-11-14 10:34:16.733472 委托回调 204001.SH\n",
      "2023-11-14 10:35:34.392365 委托回调 \n",
      "2023-11-14 10:35:34.392365 成交回调 \n",
      "2023-11-14 10:35:34.392365 委托回调 \n",
      "2023-11-14 10:36:50.895883 委托回调 204001.SH\n",
      "2023-11-14 10:36:50.918886 成交回调 204001.SH\n",
      "2023-11-14 10:36:50.918886 委托回调 204001.SH\n",
      "2023-11-14 10:37:12.421961 委托回调 \n",
      "2023-11-14 10:37:12.469042 成交回调 \n",
      "2023-11-14 10:37:12.469042 委托回调 \n",
      "2023-11-14 10:37:23.122307 委托回调 \n",
      "2023-11-14 10:37:23.186269 成交回调 \n",
      "2023-11-14 10:37:23.186269 委托回调 \n",
      "2023-11-14 10:37:49.836549 委托回调 \n",
      "2023-11-14 10:37:49.836549 成交回调 \n",
      "2023-11-14 10:37:49.836549 委托回调 \n",
      "2023-11-14 10:38:26.628027 成交回调 \n",
      "2023-11-14 10:38:26.628027 委托回调 \n",
      "2023-11-14 10:38:36.533828 成交回调 \n",
      "2023-11-14 10:38:36.534832 委托回调 \n",
      "2023-11-14 10:39:03.534772 成交回调 \n",
      "2023-11-14 10:39:03.534772 委托回调 \n"
     ]
    }
   ],
   "source": [
    "my.direct_sell('204001.SH',100)"
   ]
  }
 ],
 "metadata": {
  "kernelspec": {
   "display_name": "Python 3",
   "language": "python",
   "name": "python3"
  },
  "language_info": {
   "codemirror_mode": {
    "name": "ipython",
    "version": 3
   },
   "file_extension": ".py",
   "mimetype": "text/x-python",
   "name": "python",
   "nbconvert_exporter": "python",
   "pygments_lexer": "ipython3",
   "version": "3.11.6"
  }
 },
 "nbformat": 4,
 "nbformat_minor": 2
}
