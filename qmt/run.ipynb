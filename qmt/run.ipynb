{
 "cells": [
  {
   "cell_type": "code",
   "execution_count": 31,
   "metadata": {},
   "outputs": [
    {
     "name": "stdout",
     "output_type": "stream",
     "text": [
      "登录成功\n"
     ]
    }
   ],
   "source": [
    "import jisilu.jisilu_data as jisilu_data\n",
    "\n",
    "data = jisilu_data.Jisilu().run()\n",
    "\n",
    "ndata = data[(data['转债剩余占总市值比'] < 50) & (data['剩余时间'] > 0.3)].sort_values('双低', ascending=True).head(10)\n"
   ]
  },
  {
   "cell_type": "code",
   "execution_count": 6,
   "metadata": {
    "ExecuteTime": {
     "end_time": "2024-11-11T05:21:51.882143Z",
     "start_time": "2024-11-11T05:21:50.593657Z"
    }
   },
   "outputs": [],
   "source": [
    "import akshare as ak\n",
    "\n",
    "# 获取所有ETF的信息\n",
    "etf_info = ak.fund_etf_category_sina(symbol=\"ETF基金\")\n",
    "\n",
    "# 打印结果\n",
    "# print(etf_info)"
   ]
  },
  {
   "cell_type": "code",
   "execution_count": 7,
   "metadata": {
    "ExecuteTime": {
     "end_time": "2024-11-11T05:21:57.026194Z",
     "start_time": "2024-11-11T05:21:56.999173Z"
    }
   },
   "outputs": [
    {
     "data": {
      "text/html": [
       "<div>\n",
       "<style scoped>\n",
       "    .dataframe tbody tr th:only-of-type {\n",
       "        vertical-align: middle;\n",
       "    }\n",
       "\n",
       "    .dataframe tbody tr th {\n",
       "        vertical-align: top;\n",
       "    }\n",
       "\n",
       "    .dataframe thead th {\n",
       "        text-align: right;\n",
       "    }\n",
       "</style>\n",
       "<table border=\"1\" class=\"dataframe\">\n",
       "  <thead>\n",
       "    <tr style=\"text-align: right;\">\n",
       "      <th></th>\n",
       "      <th>代码</th>\n",
       "      <th>名称</th>\n",
       "      <th>最新价</th>\n",
       "      <th>涨跌额</th>\n",
       "      <th>涨跌幅</th>\n",
       "      <th>买入</th>\n",
       "      <th>卖出</th>\n",
       "      <th>昨收</th>\n",
       "      <th>今开</th>\n",
       "      <th>最高</th>\n",
       "      <th>最低</th>\n",
       "      <th>成交量</th>\n",
       "      <th>成交额</th>\n",
       "    </tr>\n",
       "  </thead>\n",
       "  <tbody>\n",
       "    <tr>\n",
       "      <th>457</th>\n",
       "      <td>sh588000</td>\n",
       "      <td>科创50ETF</td>\n",
       "      <td>1.122</td>\n",
       "      <td>0.041</td>\n",
       "      <td>3.793</td>\n",
       "      <td>1.122</td>\n",
       "      <td>1.123</td>\n",
       "      <td>1.081</td>\n",
       "      <td>1.082</td>\n",
       "      <td>1.128</td>\n",
       "      <td>1.082</td>\n",
       "      <td>7326389663</td>\n",
       "      <td>8150096563</td>\n",
       "    </tr>\n",
       "  </tbody>\n",
       "</table>\n",
       "</div>"
      ],
      "text/plain": [
       "           代码       名称    最新价    涨跌额    涨跌幅     买入     卖出     昨收     今开  \\\n",
       "457  sh588000  科创50ETF  1.122  0.041  3.793  1.122  1.123  1.081  1.082   \n",
       "\n",
       "        最高     最低         成交量         成交额  \n",
       "457  1.128  1.082  7326389663  8150096563  "
      ]
     },
     "execution_count": 7,
     "metadata": {},
     "output_type": "execute_result"
    }
   ],
   "source": [
    "etf_info[etf_info['代码'].str.contains('588000', na=False)]"
   ]
  },
  {
   "cell_type": "code",
   "execution_count": 1,
   "metadata": {
    "ExecuteTime": {
     "end_time": "2024-11-11T05:00:07.252648Z",
     "start_time": "2024-11-11T05:00:01.092652Z"
    }
   },
   "outputs": [
    {
     "data": {
      "application/vnd.jupyter.widget-view+json": {
       "model_id": "80d6a6dbdaa44a53bdffd83af308f165",
       "version_major": 2,
       "version_minor": 0
      },
      "text/plain": [
       "  0%|          | 0/13 [00:00<?, ?it/s]"
      ]
     },
     "metadata": {},
     "output_type": "display_data"
    },
    {
     "name": "stdout",
     "output_type": "stream",
     "text": [
      "        code   name\n",
      "0     000001   平安银行\n",
      "1     000002  万  科Ａ\n",
      "2     000004   国华网安\n",
      "3     000006   深振业Ａ\n",
      "4     000007    全新好\n",
      "...      ...    ...\n",
      "5361  920066    科拜尔\n",
      "5362  920088   科力股份\n",
      "5363  920099   瑞华技术\n",
      "5364  920111    N聚星\n",
      "5365  920118   太湖远大\n",
      "\n",
      "[5366 rows x 2 columns]\n"
     ]
    }
   ],
   "source": [
    "import akshare as ak\n",
    "\n",
    "# 获取所有A股股票的代码和名称\n",
    "stock_info = ak.stock_info_a_code_name()\n",
    "\n",
    "# 打印结果\n",
    "print(stock_info)"
   ]
  },
  {
   "cell_type": "code",
   "execution_count": null,
   "metadata": {},
   "outputs": [],
   "source": [
    "stock_info"
   ]
  },
  {
   "cell_type": "code",
   "execution_count": 12,
   "metadata": {},
   "outputs": [
    {
     "name": "stdout",
     "output_type": "stream",
     "text": [
      "获取数据出错: module 'akshare' has no attribute 'bond_zh_hs_cov_hist'\n"
     ]
    }
   ],
   "source": [
    "import akshare as ak\n",
    "import pandas as pd\n",
    "from datetime import datetime, timedelta\n",
    "\n",
    "def get_cb_turnover_rate(bond_code, days=5):\n",
    "    \"\"\"获取可转债近N日换手率\n",
    "    \n",
    "    Args:\n",
    "        bond_code: 可转债代码，如 '127061'（不带市场标识）\n",
    "        days: 获取天数，默认5天\n",
    "    \n",
    "    Returns:\n",
    "        包含日期和换手率的字典列表\n",
    "    \"\"\"\n",
    "    try:\n",
    "        # 获取可转债历史数据\n",
    "        df = ak.bond_zh_hs_cov_hist(symbol=bond_code)\n",
    "        \n",
    "        # 确保数据按日期降序排列（最新日期在前）\n",
    "        df['日期'] = pd.to_datetime(df['日期'])\n",
    "        df = df.sort_values('日期', ascending=False)\n",
    "        \n",
    "        # 选取最近N天的数据\n",
    "        df = df.head(days)\n",
    "        \n",
    "        # 转换为列表格式返回\n",
    "        result = []\n",
    "        for _, row in df.iterrows():\n",
    "            result.append({\n",
    "                'date': row['日期'].strftime('%Y-%m-%d'),\n",
    "                'turnover_rate': round(float(row['换手率']), 2)\n",
    "            })\n",
    "        \n",
    "        return result\n",
    "    \n",
    "    except Exception as e:\n",
    "        print(f\"获取数据出错: {e}\")\n",
    "        return None\n",
    "\n",
    "# 使用示例\n",
    "if __name__ == \"__main__\":\n",
    "    bond_code = '127061'  # 以美锦转债为例\n",
    "    turnover_rates = get_cb_turnover_rate(bond_code)\n",
    "    \n",
    "    if turnover_rates:\n",
    "        print(f\"{bond_code} 最近5日换手率：\")\n",
    "        for item in turnover_rates:\n",
    "            print(f\"日期: {item['date']}, 换手率: {item['turnover_rate']}%\")"
   ]
  },
  {
   "cell_type": "code",
   "execution_count": 3,
   "metadata": {},
   "outputs": [],
   "source": [
    "from init import xtdata"
   ]
  },
  {
   "cell_type": "code",
   "execution_count": 2,
   "metadata": {},
   "outputs": [
    {
     "ename": "KeyboardInterrupt",
     "evalue": "",
     "output_type": "error",
     "traceback": [
      "\u001b[1;31m---------------------------------------------------------------------------\u001b[0m",
      "\u001b[1;31mKeyboardInterrupt\u001b[0m                         Traceback (most recent call last)",
      "\u001b[1;32m~\\AppData\\Local\\Temp\\ipykernel_6676\\780641913.py\u001b[0m in \u001b[0;36m<module>\u001b[1;34m\u001b[0m\n\u001b[1;32m----> 1\u001b[1;33m \u001b[1;32mfrom\u001b[0m \u001b[0mminiqmt\u001b[0m \u001b[1;32mimport\u001b[0m \u001b[0mDataAPI\u001b[0m\u001b[1;33m\u001b[0m\u001b[1;33m\u001b[0m\u001b[0m\n\u001b[0m\u001b[0;32m      2\u001b[0m \u001b[1;33m\u001b[0m\u001b[0m\n\u001b[0;32m      3\u001b[0m \u001b[1;32mdef\u001b[0m \u001b[0mget_cb_turnover_rate\u001b[0m\u001b[1;33m(\u001b[0m\u001b[0mbond_code\u001b[0m\u001b[1;33m,\u001b[0m \u001b[0mdays\u001b[0m\u001b[1;33m=\u001b[0m\u001b[1;36m5\u001b[0m\u001b[1;33m)\u001b[0m\u001b[1;33m:\u001b[0m\u001b[1;33m\u001b[0m\u001b[1;33m\u001b[0m\u001b[0m\n\u001b[0;32m      4\u001b[0m     \"\"\"获取转债近N日换手率\n\u001b[0;32m      5\u001b[0m \u001b[1;33m\u001b[0m\u001b[0m\n",
      "\u001b[1;32md:\\my\\kezhuanzhai\\qmt\\miniqmt.py\u001b[0m in \u001b[0;36m<module>\u001b[1;34m\u001b[0m\n\u001b[0;32m     61\u001b[0m     \u001b[1;32mwhile\u001b[0m \u001b[1;32mTrue\u001b[0m\u001b[1;33m:\u001b[0m\u001b[1;33m\u001b[0m\u001b[1;33m\u001b[0m\u001b[0m\n\u001b[0;32m     62\u001b[0m         \u001b[0mschedule\u001b[0m\u001b[1;33m.\u001b[0m\u001b[0mrun_pending\u001b[0m\u001b[1;33m(\u001b[0m\u001b[1;33m)\u001b[0m\u001b[1;33m\u001b[0m\u001b[1;33m\u001b[0m\u001b[0m\n\u001b[1;32m---> 63\u001b[1;33m         \u001b[0mtime\u001b[0m\u001b[1;33m.\u001b[0m\u001b[0msleep\u001b[0m\u001b[1;33m(\u001b[0m\u001b[1;36m1\u001b[0m\u001b[1;33m)\u001b[0m\u001b[1;33m\u001b[0m\u001b[1;33m\u001b[0m\u001b[0m\n\u001b[0m",
      "\u001b[1;31mKeyboardInterrupt\u001b[0m: "
     ]
    }
   ],
   "source": [
    "from miniqmt import DataAPI\n",
    "\n",
    "def get_cb_turnover_rate(bond_code, days=5):\n",
    "    \"\"\"获取转债近N日换手率\n",
    "    \n",
    "    Args:\n",
    "        bond_code: 转债代码，如 '123456'\n",
    "        days: 获取天数，默认5天\n",
    "    \n",
    "    Returns:\n",
    "        包含日期和换手率的字典列表\n",
    "    \"\"\"\n",
    "    # 获取日线数据\n",
    "    df = DataAPI.get_history_data(\n",
    "        symbol=bond_code,\n",
    "        period='1d',\n",
    "        field_list=['date', 'turn'],\n",
    "        count=days\n",
    "    )\n",
    "    \n",
    "    # 转换为列表格式返回\n",
    "    result = []\n",
    "    for _, row in df.iterrows():\n",
    "        result.append({\n",
    "            'date': row['date'].strftime('%Y-%m-%d'),\n",
    "            'turnover_rate': round(row['turn'], 2)\n",
    "        })\n",
    "    \n",
    "    return result\n",
    "\n",
    "# 使用示例\n",
    "bond_code = '127061.SZ'  # 替换为实际的转债代码\n",
    "turnover_rates = get_cb_turnover_rate(bond_code)\n",
    "for item in turnover_rates:\n",
    "    print(f\"日期: {item['date']}, 换手率: {item['turnover_rate']}%\")"
   ]
  },
  {
   "cell_type": "code",
   "execution_count": 20,
   "metadata": {},
   "outputs": [],
   "source": [
    "from xtquant import xtdata\n",
    "\n",
    "df = xtdata.get_market_data(stock_list=[\"110092.SH\"], period='1d')\n"
   ]
  },
  {
   "cell_type": "code",
   "execution_count": 23,
   "metadata": {},
   "outputs": [],
   "source": [
    "import akshare as ak\n",
    "\n",
    "bond_zh_hs_cov_min_df = ak.bond_zh_hs_cov_min(symbol=\"sz123124\", period='1', adjust='', start_date=\"1979-09-01 09:32:00\", end_date=\"2222-01-01 09:32:00\")"
   ]
  },
  {
   "cell_type": "code",
   "execution_count": 27,
   "metadata": {},
   "outputs": [
    {
     "ename": "ValueError",
     "evalue": "Length mismatch: Expected axis has 0 elements, new values have 11 elements",
     "output_type": "error",
     "traceback": [
      "\u001b[1;31m---------------------------------------------------------------------------\u001b[0m",
      "\u001b[1;31mValueError\u001b[0m                                Traceback (most recent call last)",
      "\u001b[1;32m~\\AppData\\Local\\Temp\\ipykernel_6676\\191693507.py\u001b[0m in \u001b[0;36m<module>\u001b[1;34m\u001b[0m\n\u001b[0;32m      1\u001b[0m \u001b[1;32mimport\u001b[0m \u001b[0makshare\u001b[0m \u001b[1;32mas\u001b[0m \u001b[0mak\u001b[0m\u001b[1;33m\u001b[0m\u001b[1;33m\u001b[0m\u001b[0m\n\u001b[0;32m      2\u001b[0m \u001b[1;33m\u001b[0m\u001b[0m\n\u001b[1;32m----> 3\u001b[1;33m \u001b[0mbond_zh_hs_cov_min_df\u001b[0m \u001b[1;33m=\u001b[0m \u001b[0mak\u001b[0m\u001b[1;33m.\u001b[0m\u001b[0mbond_zh_hs_cov_min\u001b[0m\u001b[1;33m(\u001b[0m\u001b[0msymbol\u001b[0m\u001b[1;33m=\u001b[0m\u001b[1;34m\"sz110092\"\u001b[0m\u001b[1;33m,\u001b[0m \u001b[0mperiod\u001b[0m\u001b[1;33m=\u001b[0m\u001b[1;34m'5'\u001b[0m\u001b[1;33m,\u001b[0m \u001b[0madjust\u001b[0m\u001b[1;33m=\u001b[0m\u001b[1;34m'hfq'\u001b[0m\u001b[1;33m,\u001b[0m \u001b[0mstart_date\u001b[0m\u001b[1;33m=\u001b[0m\u001b[1;34m\"2023-09-01 09:32:00\"\u001b[0m\u001b[1;33m,\u001b[0m \u001b[0mend_date\u001b[0m\u001b[1;33m=\u001b[0m\u001b[1;34m\"2023-09-06 09:32:00\"\u001b[0m\u001b[1;33m)\u001b[0m\u001b[1;33m\u001b[0m\u001b[1;33m\u001b[0m\u001b[0m\n\u001b[0m",
      "\u001b[1;32mc:\\ProgramData\\anaconda3\\lib\\site-packages\\akshare\\bond\\bond_zh_cov.py\u001b[0m in \u001b[0;36mbond_zh_hs_cov_min\u001b[1;34m(symbol, period, adjust, start_date, end_date)\u001b[0m\n\u001b[0;32m    222\u001b[0m             \u001b[1;33m[\u001b[0m\u001b[0mitem\u001b[0m\u001b[1;33m.\u001b[0m\u001b[0msplit\u001b[0m\u001b[1;33m(\u001b[0m\u001b[1;34m\",\"\u001b[0m\u001b[1;33m)\u001b[0m \u001b[1;32mfor\u001b[0m \u001b[0mitem\u001b[0m \u001b[1;32min\u001b[0m \u001b[0mdata_json\u001b[0m\u001b[1;33m[\u001b[0m\u001b[1;34m\"data\"\u001b[0m\u001b[1;33m]\u001b[0m\u001b[1;33m[\u001b[0m\u001b[1;34m\"klines\"\u001b[0m\u001b[1;33m]\u001b[0m\u001b[1;33m]\u001b[0m\u001b[1;33m\u001b[0m\u001b[1;33m\u001b[0m\u001b[0m\n\u001b[0;32m    223\u001b[0m         )\n\u001b[1;32m--> 224\u001b[1;33m         temp_df.columns = [\n\u001b[0m\u001b[0;32m    225\u001b[0m             \u001b[1;34m\"时间\"\u001b[0m\u001b[1;33m,\u001b[0m\u001b[1;33m\u001b[0m\u001b[1;33m\u001b[0m\u001b[0m\n\u001b[0;32m    226\u001b[0m             \u001b[1;34m\"开盘\"\u001b[0m\u001b[1;33m,\u001b[0m\u001b[1;33m\u001b[0m\u001b[1;33m\u001b[0m\u001b[0m\n",
      "\u001b[1;32mc:\\ProgramData\\anaconda3\\lib\\site-packages\\pandas\\core\\generic.py\u001b[0m in \u001b[0;36m__setattr__\u001b[1;34m(self, name, value)\u001b[0m\n\u001b[0;32m   6311\u001b[0m         \u001b[1;32mtry\u001b[0m\u001b[1;33m:\u001b[0m\u001b[1;33m\u001b[0m\u001b[1;33m\u001b[0m\u001b[0m\n\u001b[0;32m   6312\u001b[0m             \u001b[0mobject\u001b[0m\u001b[1;33m.\u001b[0m\u001b[0m__getattribute__\u001b[0m\u001b[1;33m(\u001b[0m\u001b[0mself\u001b[0m\u001b[1;33m,\u001b[0m \u001b[0mname\u001b[0m\u001b[1;33m)\u001b[0m\u001b[1;33m\u001b[0m\u001b[1;33m\u001b[0m\u001b[0m\n\u001b[1;32m-> 6313\u001b[1;33m             \u001b[1;32mreturn\u001b[0m \u001b[0mobject\u001b[0m\u001b[1;33m.\u001b[0m\u001b[0m__setattr__\u001b[0m\u001b[1;33m(\u001b[0m\u001b[0mself\u001b[0m\u001b[1;33m,\u001b[0m \u001b[0mname\u001b[0m\u001b[1;33m,\u001b[0m \u001b[0mvalue\u001b[0m\u001b[1;33m)\u001b[0m\u001b[1;33m\u001b[0m\u001b[1;33m\u001b[0m\u001b[0m\n\u001b[0m\u001b[0;32m   6314\u001b[0m         \u001b[1;32mexcept\u001b[0m \u001b[0mAttributeError\u001b[0m\u001b[1;33m:\u001b[0m\u001b[1;33m\u001b[0m\u001b[1;33m\u001b[0m\u001b[0m\n\u001b[0;32m   6315\u001b[0m             \u001b[1;32mpass\u001b[0m\u001b[1;33m\u001b[0m\u001b[1;33m\u001b[0m\u001b[0m\n",
      "\u001b[1;32mproperties.pyx\u001b[0m in \u001b[0;36mpandas._libs.properties.AxisProperty.__set__\u001b[1;34m()\u001b[0m\n",
      "\u001b[1;32mc:\\ProgramData\\anaconda3\\lib\\site-packages\\pandas\\core\\generic.py\u001b[0m in \u001b[0;36m_set_axis\u001b[1;34m(self, axis, labels)\u001b[0m\n\u001b[0;32m    812\u001b[0m         \"\"\"\n\u001b[0;32m    813\u001b[0m         \u001b[0mlabels\u001b[0m \u001b[1;33m=\u001b[0m \u001b[0mensure_index\u001b[0m\u001b[1;33m(\u001b[0m\u001b[0mlabels\u001b[0m\u001b[1;33m)\u001b[0m\u001b[1;33m\u001b[0m\u001b[1;33m\u001b[0m\u001b[0m\n\u001b[1;32m--> 814\u001b[1;33m         \u001b[0mself\u001b[0m\u001b[1;33m.\u001b[0m\u001b[0m_mgr\u001b[0m\u001b[1;33m.\u001b[0m\u001b[0mset_axis\u001b[0m\u001b[1;33m(\u001b[0m\u001b[0maxis\u001b[0m\u001b[1;33m,\u001b[0m \u001b[0mlabels\u001b[0m\u001b[1;33m)\u001b[0m\u001b[1;33m\u001b[0m\u001b[1;33m\u001b[0m\u001b[0m\n\u001b[0m\u001b[0;32m    815\u001b[0m         \u001b[0mself\u001b[0m\u001b[1;33m.\u001b[0m\u001b[0m_clear_item_cache\u001b[0m\u001b[1;33m(\u001b[0m\u001b[1;33m)\u001b[0m\u001b[1;33m\u001b[0m\u001b[1;33m\u001b[0m\u001b[0m\n\u001b[0;32m    816\u001b[0m \u001b[1;33m\u001b[0m\u001b[0m\n",
      "\u001b[1;32mc:\\ProgramData\\anaconda3\\lib\\site-packages\\pandas\\core\\internals\\managers.py\u001b[0m in \u001b[0;36mset_axis\u001b[1;34m(self, axis, new_labels)\u001b[0m\n\u001b[0;32m    236\u001b[0m     \u001b[1;32mdef\u001b[0m \u001b[0mset_axis\u001b[0m\u001b[1;33m(\u001b[0m\u001b[0mself\u001b[0m\u001b[1;33m,\u001b[0m \u001b[0maxis\u001b[0m\u001b[1;33m:\u001b[0m \u001b[0mAxisInt\u001b[0m\u001b[1;33m,\u001b[0m \u001b[0mnew_labels\u001b[0m\u001b[1;33m:\u001b[0m \u001b[0mIndex\u001b[0m\u001b[1;33m)\u001b[0m \u001b[1;33m->\u001b[0m \u001b[1;32mNone\u001b[0m\u001b[1;33m:\u001b[0m\u001b[1;33m\u001b[0m\u001b[1;33m\u001b[0m\u001b[0m\n\u001b[0;32m    237\u001b[0m         \u001b[1;31m# Caller is responsible for ensuring we have an Index object.\u001b[0m\u001b[1;33m\u001b[0m\u001b[1;33m\u001b[0m\u001b[0m\n\u001b[1;32m--> 238\u001b[1;33m         \u001b[0mself\u001b[0m\u001b[1;33m.\u001b[0m\u001b[0m_validate_set_axis\u001b[0m\u001b[1;33m(\u001b[0m\u001b[0maxis\u001b[0m\u001b[1;33m,\u001b[0m \u001b[0mnew_labels\u001b[0m\u001b[1;33m)\u001b[0m\u001b[1;33m\u001b[0m\u001b[1;33m\u001b[0m\u001b[0m\n\u001b[0m\u001b[0;32m    239\u001b[0m         \u001b[0mself\u001b[0m\u001b[1;33m.\u001b[0m\u001b[0maxes\u001b[0m\u001b[1;33m[\u001b[0m\u001b[0maxis\u001b[0m\u001b[1;33m]\u001b[0m \u001b[1;33m=\u001b[0m \u001b[0mnew_labels\u001b[0m\u001b[1;33m\u001b[0m\u001b[1;33m\u001b[0m\u001b[0m\n\u001b[0;32m    240\u001b[0m \u001b[1;33m\u001b[0m\u001b[0m\n",
      "\u001b[1;32mc:\\ProgramData\\anaconda3\\lib\\site-packages\\pandas\\core\\internals\\base.py\u001b[0m in \u001b[0;36m_validate_set_axis\u001b[1;34m(self, axis, new_labels)\u001b[0m\n\u001b[0;32m     96\u001b[0m \u001b[1;33m\u001b[0m\u001b[0m\n\u001b[0;32m     97\u001b[0m         \u001b[1;32melif\u001b[0m \u001b[0mnew_len\u001b[0m \u001b[1;33m!=\u001b[0m \u001b[0mold_len\u001b[0m\u001b[1;33m:\u001b[0m\u001b[1;33m\u001b[0m\u001b[1;33m\u001b[0m\u001b[0m\n\u001b[1;32m---> 98\u001b[1;33m             raise ValueError(\n\u001b[0m\u001b[0;32m     99\u001b[0m                 \u001b[1;34mf\"Length mismatch: Expected axis has {old_len} elements, new \"\u001b[0m\u001b[1;33m\u001b[0m\u001b[1;33m\u001b[0m\u001b[0m\n\u001b[0;32m    100\u001b[0m                 \u001b[1;34mf\"values have {new_len} elements\"\u001b[0m\u001b[1;33m\u001b[0m\u001b[1;33m\u001b[0m\u001b[0m\n",
      "\u001b[1;31mValueError\u001b[0m: Length mismatch: Expected axis has 0 elements, new values have 11 elements"
     ]
    }
   ],
   "source": [
    "import akshare as ak\n",
    "\n",
    "bond_zh_hs_cov_min_df = ak.bond_zh_hs_cov_min(symbol=\"sz110092\", period='5', adjust='hfq', start_date=\"2023-09-01 09:32:00\", end_date=\"2023-09-06 09:32:00\")\n"
   ]
  },
  {
   "cell_type": "code",
   "execution_count": 26,
   "metadata": {},
   "outputs": [
    {
     "data": {
      "text/html": [
       "<div>\n",
       "<style scoped>\n",
       "    .dataframe tbody tr th:only-of-type {\n",
       "        vertical-align: middle;\n",
       "    }\n",
       "\n",
       "    .dataframe tbody tr th {\n",
       "        vertical-align: top;\n",
       "    }\n",
       "\n",
       "    .dataframe thead th {\n",
       "        text-align: right;\n",
       "    }\n",
       "</style>\n",
       "<table border=\"1\" class=\"dataframe\">\n",
       "  <thead>\n",
       "    <tr style=\"text-align: right;\">\n",
       "      <th></th>\n",
       "      <th>时间</th>\n",
       "      <th>开盘</th>\n",
       "      <th>收盘</th>\n",
       "      <th>最高</th>\n",
       "      <th>最低</th>\n",
       "      <th>涨跌幅</th>\n",
       "      <th>涨跌额</th>\n",
       "      <th>成交量</th>\n",
       "      <th>成交额</th>\n",
       "      <th>振幅</th>\n",
       "      <th>换手率</th>\n",
       "    </tr>\n",
       "  </thead>\n",
       "  <tbody>\n",
       "  </tbody>\n",
       "</table>\n",
       "</div>"
      ],
      "text/plain": [
       "Empty DataFrame\n",
       "Columns: [时间, 开盘, 收盘, 最高, 最低, 涨跌幅, 涨跌额, 成交量, 成交额, 振幅, 换手率]\n",
       "Index: []"
      ]
     },
     "execution_count": 26,
     "metadata": {},
     "output_type": "execute_result"
    }
   ],
   "source": [
    "bond_zh_hs_cov_min_df"
   ]
  },
  {
   "cell_type": "code",
   "execution_count": 7,
   "metadata": {},
   "outputs": [
    {
     "name": "stdout",
     "output_type": "stream",
     "text": [
      "获取数据出错: '110092'\n"
     ]
    }
   ],
   "source": [
    "import akshare as ak\n",
    "import pandas as pd\n",
    "\n",
    "def get_stock_turnover_rate(stock_code, days=5):\n",
    "    \"\"\"获取股票近N日换手率\n",
    "    \n",
    "    Args:\n",
    "        stock_code: 股票代码，如 '000001'（不带市场标识）\n",
    "        days: 获取天数，默认5天\n",
    "    \n",
    "    Returns:\n",
    "        包含日期和换手率的字典列表\n",
    "    \"\"\"\n",
    "    try:\n",
    "        # 获取股票历史数据，包含换手率\n",
    "        df = ak.stock_zh_a_hist(\n",
    "            symbol=stock_code,\n",
    "            period=\"daily\",\n",
    "            adjust=\"qfq\"  # 前复权\n",
    "        )\n",
    "        \n",
    "        # 选取最近N天的数据\n",
    "        df = df.tail(days)\n",
    "        \n",
    "        # 转换为列表格式返回\n",
    "        result = []\n",
    "        for _, row in df.iterrows():\n",
    "            result.append({\n",
    "                'date': row['日期'],\n",
    "                'turnover_rate': round(float(row['换手率']), 2)\n",
    "            })\n",
    "        \n",
    "        return result\n",
    "    \n",
    "    except Exception as e:\n",
    "        print(f\"获取数据出错: {e}\")\n",
    "        return None\n",
    "\n",
    "# 使用示例\n",
    "if __name__ == \"__main__\":\n",
    "    stock_code = '110092'  # 以平安银行为例\n",
    "    turnover_rates = get_stock_turnover_rate(stock_code)\n",
    "    \n",
    "    if turnover_rates:\n",
    "        print(f\"{stock_code} 最近5日换手率：\")\n",
    "        for item in turnover_rates:\n",
    "            print(f\"日期: {item['date']}, 换手率: {item['turnover_rate']}%\")"
   ]
  },
  {
   "cell_type": "code",
   "execution_count": 10,
   "metadata": {},
   "outputs": [
    {
     "name": "stdout",
     "output_type": "stream",
     "text": [
      "获取数据出错: 'date'\n"
     ]
    }
   ],
   "source": [
    "import akshare as ak\n",
    "import pandas as pd\n",
    "\n",
    "df = None\n",
    "\n",
    "def get_cb_turnover_rate(bond_code, days=5):\n",
    "    \"\"\"获取可转债近N日换手率\n",
    "    \n",
    "    Args:\n",
    "        bond_code: 可转债代码，如 '123456'（不带市场标识）\n",
    "        days: 获取天数，默认5天\n",
    "    \n",
    "    Returns:\n",
    "        包含日期和换手率的字典列表\n",
    "    \"\"\"\n",
    "    try:\n",
    "        # 获取可转债历史数据\n",
    "        df = ak.bond_zh_hs_cov_daily(\n",
    "            symbol=bond_code\n",
    "        )\n",
    "        \n",
    "\n",
    "\n",
    "        # 选取最近N天的数据\n",
    "        df = df.head(days)  # bond_zh_hs_cov_daily 返回的数据是倒序的，最新的在前\n",
    "        \n",
    "        # 转换为列表格式返回\n",
    "        result = []\n",
    "        for _, row in df.iterrows():\n",
    "            result.append({\n",
    "                'date': row['日期'],\n",
    "                'turnover_rate': round(float(row['换手率']), 2)\n",
    "            })\n",
    "        \n",
    "        return result\n",
    "    \n",
    "    except Exception as e:\n",
    "        print(f\"获取数据出错: {e}\")\n",
    "        return None\n",
    "\n",
    "# 使用示例\n",
    "if __name__ == \"__main__\":\n",
    "    bond_code = '110092'  # 替换为实际的可转债代码\n",
    "    turnover_rates = get_cb_turnover_rate(bond_code)\n",
    "    \n",
    "    if turnover_rates:\n",
    "        print(f\"{bond_code} 最近5日换手率：\")\n",
    "        for item in turnover_rates:\n",
    "            print(f\"日期: {item['date']}, 换手率: {item['turnover_rate']}%\")"
   ]
  }
 ],
 "metadata": {
  "kernelspec": {
   "display_name": "base",
   "language": "python",
   "name": "python3"
  },
  "language_info": {
   "codemirror_mode": {
    "name": "ipython",
    "version": 3
   },
   "file_extension": ".py",
   "mimetype": "text/x-python",
   "name": "python",
   "nbconvert_exporter": "python",
   "pygments_lexer": "ipython3",
   "version": "3.10.14"
  }
 },
 "nbformat": 4,
 "nbformat_minor": 2
}
